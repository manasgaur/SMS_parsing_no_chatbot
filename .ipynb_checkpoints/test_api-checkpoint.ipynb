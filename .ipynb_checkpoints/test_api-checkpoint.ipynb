{
 "cells": [
  {
   "cell_type": "code",
   "execution_count": 34,
   "metadata": {
    "collapsed": false
   },
   "outputs": [
    {
     "name": "stdout",
     "output_type": "stream",
     "text": [
      "  (0, 4)\t1\n",
      "  (0, 19)\t1\n",
      "  (0, 27)\t1\n",
      "  (0, 28)\t1\n",
      "  (0, 107)\t1\n",
      "  (0, 123)\t1\n",
      "  (0, 123)\t0.278851976811\n",
      "  (0, 107)\t0.240918845569\n",
      "  (0, 28)\t0.27833276333\n",
      "  (0, 27)\t0.290566240501\n",
      "  (0, 19)\t0.706852444191\n",
      "  (0, 4)\t0.450179341771\n",
      "[ 0.]\n",
      "message is suspicious\n"
     ]
    }
   ],
   "source": [
    "import pandas as pd\n",
    "import pickle,csv,sys,os,itertools\n",
    "import numpy as np\n",
    "from sklearn.feature_extraction.text import TfidfVectorizer, CountVectorizer, TfidfTransformer\n",
    "import codecs,string\n",
    "import Tweet_tokenizer as tt\n",
    "from nltk.stem import WordNetLemmatizer\n",
    "from sklearn.ensemble import RandomForestClassifier\n",
    "from sklearn.cross_validation import train_test_split\n",
    "from sklearn.metrics import  accuracy_score\n",
    "from sklearn.utils import shuffle\n",
    "import warnings\n",
    "\n",
    "wnl = WordNetLemmatizer()\n",
    "\n",
    "def lemmatization_for_CV(message):\n",
    "    message = unicode(message, 'utf-8').lower()\n",
    "    words =  tt.tokenize(message)\n",
    "    return [wnl.lemmatize(word.encode('ascii', 'ignore')) for word in words]\n",
    "'''\n",
    "def tfidf_BOW_model(training_dataset, vocab, message):\n",
    "    print \"---- Performing Lemmatization and Simple NLP task of text preprocessing\"\n",
    "    BOW_model = CountVectorizer(analyzer=lemmatization_for_CV, vocabulary=vocab, stop_words='english').fit(training_dataset.message.tolist())\n",
    "    BOW_of_messages = BOW_model.fit_transform(training_dataset.message)\n",
    "    test_message = BOW_model.transform(message)\n",
    "    print test_message\n",
    "    tfidf = TfidfTransformer().fit(BOW_of_messages)\n",
    "    tfidf_over_train = tfidf.transform(BOW_of_messages)\n",
    "    print \"Tf-IDF, Bag of words model created.\"\n",
    "    return BOW_model, tfidf, tfidf_over_train\n",
    "'''\n",
    "def use_api(message):\n",
    "    #rst = df.message.tolist()\n",
    "    #print rst[0]\n",
    "    #raise KeyboardInterrupt\n",
    "    #print lemmatization_for_CV(message[0])\n",
    "    mlmodel = pickle.load(open('trained_model/machine_learning.sav', 'rb'))\n",
    "    \n",
    "    #model = CountVectorizer(analyzer=lemmatization_for_CV, vocabulary=vb, stop_words='english')\n",
    "    #result = model.fit_transform(message)\n",
    "    #print model.vocabulary_\n",
    "    #print result\n",
    "    #raise KeyboardInterrupt\n",
    "    #bmodel, tmodel, _ = tfidf_BOW_model(df, vb, message)\n",
    "    bmodel = pickle.load(open('trained_model/bow_model.sav', 'rb'))\n",
    "    tmodel = pickle.load(open('trained_model/tfidf_model.sav', 'rb'))\n",
    "    bmsg = bmodel.transform(message)\n",
    "    print bmsg\n",
    "    tmsg = tmodel.transform(bmsg)\n",
    "    print tmsg\n",
    "    result = mlmodel.predict(tmsg)\n",
    "    print result\n",
    "    if not any([x == 1 for x in result]):\n",
    "        return 'message is suspicious'\n",
    "    else:\n",
    "        return 'message is not suspicious'\n",
    "   \n",
    "if __name__ == '__main__':\n",
    "    '''\n",
    "    For the user of the API :\n",
    "    Please pass in the  message that needs to be classified as suspicious or not-suspicious\n",
    "    '''\n",
    "    #arg1 = 'suspect-messages-20171017-131005.csv'\n",
    "    #arg2 = 'vocab.sav'\n",
    "    arg3 = [\"vm-yesbank An amount of Rs.8,258.05 has been debited from your a/c no XXXX9356 for BillPay/CreditCard payment done using HDFC Bank NetBanking\"]\n",
    "    #suspect_message_frame = pd.read_csv(arg1)\n",
    "    #suspect_message_frame = suspect_message_frame.sample(frac=1).reset_index(drop=True)\n",
    "    #dir_path = os.path.dirname(os.path.realpath(__file__))\n",
    "    #rel_path = '%s' %(arg1)\n",
    "    #full_path = os.path.join(dir_path,rel_path)\n",
    "   # with open(full_path) as f:\n",
    "    #    message =  f.readlines()\n",
    "    #message = message[0].rstrip()\n",
    "    #print message\n",
    "    print use_api(arg3)\n"
   ]
  },
  {
   "cell_type": "code",
   "execution_count": null,
   "metadata": {
    "collapsed": true
   },
   "outputs": [],
   "source": []
  }
 ],
 "metadata": {
  "kernelspec": {
   "display_name": "Python 2",
   "language": "python",
   "name": "python2"
  },
  "language_info": {
   "codemirror_mode": {
    "name": "ipython",
    "version": 2
   },
   "file_extension": ".py",
   "mimetype": "text/x-python",
   "name": "python",
   "nbconvert_exporter": "python",
   "pygments_lexer": "ipython2",
   "version": "2.7.10"
  }
 },
 "nbformat": 4,
 "nbformat_minor": 2
}
